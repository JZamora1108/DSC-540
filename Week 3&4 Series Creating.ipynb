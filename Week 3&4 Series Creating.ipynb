{
 "cells": [
  {
   "cell_type": "code",
   "execution_count": null,
   "id": "a8700af2",
   "metadata": {},
   "outputs": [],
   "source": [
    "## Create a series and practice basic arithmetic steps"
   ]
  },
  {
   "cell_type": "code",
   "execution_count": null,
   "id": "f6027bc7",
   "metadata": {},
   "outputs": [],
   "source": [
    "## creating Series 1\n",
    "list_a = [7.3, -2.5, 3.4, 1.5]\n",
    "index_a = ['a','b','c','d']\n",
    "\n",
    "series_a = pd.DataFrame(data=list_a,index=index_a)\n",
    "series_a"
   ]
  },
  {
   "cell_type": "code",
   "execution_count": null,
   "id": "27d6bbac",
   "metadata": {},
   "outputs": [],
   "source": [
    "## Creating Series 2\n",
    "list_b =[-2.1, 3.6, -1.5, 4, 3.1]\n",
    "index_b = ['a', 'c', 'e', 'f', 'g']\n",
    "\n",
    "series_b = pd.DataFrame(list_b,index_b)\n",
    "series_b"
   ]
  },
  {
   "cell_type": "code",
   "execution_count": null,
   "id": "ff5fc9cb",
   "metadata": {},
   "outputs": [],
   "source": [
    "#adding series 1 and 2\n",
    "added_series = series_a + series_b\n",
    "added_series"
   ]
  },
  {
   "cell_type": "code",
   "execution_count": null,
   "id": "750999f2",
   "metadata": {},
   "outputs": [],
   "source": [
    "##subtracting series 1 and 2\n",
    "subtracted_series = series_b - series_a\n",
    "subtracted_series"
   ]
  }
 ],
 "metadata": {
  "kernelspec": {
   "display_name": "Python 3",
   "language": "python",
   "name": "python3"
  },
  "language_info": {
   "codemirror_mode": {
    "name": "ipython",
    "version": 3
   },
   "file_extension": ".py",
   "mimetype": "text/x-python",
   "name": "python",
   "nbconvert_exporter": "python",
   "pygments_lexer": "ipython3",
   "version": "3.8.8"
  }
 },
 "nbformat": 4,
 "nbformat_minor": 5
}
