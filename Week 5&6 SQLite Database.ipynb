{
 "cells": [
  {
   "cell_type": "code",
   "execution_count": 11,
   "id": "2ddd60bc",
   "metadata": {},
   "outputs": [],
   "source": [
    "import sqlite3\n",
    "import pandas as pd"
   ]
  },
  {
   "cell_type": "code",
   "execution_count": 2,
   "id": "65a19ae0",
   "metadata": {},
   "outputs": [],
   "source": [
    "query = \"\"\"\n",
    "CREATE TABLE people_info\n",
    "    (\n",
    "        name VARCAR(100),\n",
    "        address VARCAR(250),\n",
    "        city VARCHAR(100),\n",
    "        state VARCHAR(50),\n",
    "        zip CARCHAR(10),\n",
    "        phone VARCHAR(20)\n",
    "    );\n",
    "\"\"\""
   ]
  },
  {
   "cell_type": "code",
   "execution_count": 4,
   "id": "e1f2c64b",
   "metadata": {},
   "outputs": [],
   "source": [
    "##connection \n",
    "con = sqlite3.connect('mydata.sqlite')\n",
    "con.commit()"
   ]
  },
  {
   "cell_type": "code",
   "execution_count": 6,
   "id": "10550ada",
   "metadata": {},
   "outputs": [],
   "source": [
    "##create dataset for table\n",
    "data = [\n",
    "        ('Thomas Shelby','1000 Giles Road','Papillion','NE','68046','123456789'),\n",
    "        ('Drew Brees','1001 Giles Road','Papillion','NE','68046','123456789'),\n",
    "        ('Optimus Prime','1002 Giles Road','Papillion','NE','68046','123456789'),\n",
    "        ('Megatron','1003 Giles Road','Papillion','NE','68046','123456789'),\n",
    "        ('Arthur Shelby','1004 Giles Road','Papillion','NE','68046','123456789'),\n",
    "        ('Naruto Uzumaki','1005 Giles Road','Papillion','NE','68046','123456789'),\n",
    "        ('Sasuke Uchiha','1006 Giles Road','Papillion','NE','68046','123456789'),\n",
    "        ('Alvin Kamara','1007 Giles Road','Papillion','NE','68046','123456789'),\n",
    "        ('Thomas the Train','1008 Giles Road','Papillion','NE','68046','123456789'),\n",
    "        ('Bill','1009 Giles Road','Papillion','NE','68046','123456789'),\n",
    "]\n",
    "\n",
    "stmt = \"INSERT INTO people_info VALUES(?, ?, ?, ?, ?, ?)\"\n",
    "\n",
    "con.executemany(stmt, data)\n",
    "con.commit()"
   ]
  },
  {
   "cell_type": "code",
   "execution_count": 8,
   "id": "1eee361b",
   "metadata": {},
   "outputs": [
    {
     "data": {
      "text/plain": [
       "[('Thomas Shelby', '1000 Giles Road', 'Papillion', 'NE', '68046', '123456789'),\n",
       " ('Drew Brees', '1001 Giles Road', 'Papillion', 'NE', '68046', '123456789'),\n",
       " ('Optimus Prime', '1002 Giles Road', 'Papillion', 'NE', '68046', '123456789'),\n",
       " ('Megatron', '1003 Giles Road', 'Papillion', 'NE', '68046', '123456789'),\n",
       " ('Arthur Shelby', '1004 Giles Road', 'Papillion', 'NE', '68046', '123456789'),\n",
       " ('Naruto Uzumaki',\n",
       "  '1005 Giles Road',\n",
       "  'Papillion',\n",
       "  'NE',\n",
       "  '68046',\n",
       "  '123456789'),\n",
       " ('Sasuke Uchiha', '1006 Giles Road', 'Papillion', 'NE', '68046', '123456789'),\n",
       " ('Alvin Kamara', '1007 Giles Road', 'Papillion', 'NE', '68046', '123456789'),\n",
       " ('Thomas the Train',\n",
       "  '1008 Giles Road',\n",
       "  'Papillion',\n",
       "  'NE',\n",
       "  '68046',\n",
       "  '123456789'),\n",
       " ('Bill', '1009 Giles Road', 'Papillion', 'NE', '68046', '123456789')]"
      ]
     },
     "execution_count": 8,
     "metadata": {},
     "output_type": "execute_result"
    }
   ],
   "source": [
    "## return a list of tuples\n",
    "cursor = con.execute(\"Select * from people_info\")\n",
    "rows = cursor.fetchall()\n",
    "rows"
   ]
  },
  {
   "cell_type": "code",
   "execution_count": 9,
   "id": "f596d9e4",
   "metadata": {},
   "outputs": [
    {
     "data": {
      "text/plain": [
       "(('name', None, None, None, None, None, None),\n",
       " ('address', None, None, None, None, None, None),\n",
       " ('city', None, None, None, None, None, None),\n",
       " ('state', None, None, None, None, None, None),\n",
       " ('zip', None, None, None, None, None, None),\n",
       " ('phone', None, None, None, None, None, None))"
      ]
     },
     "execution_count": 9,
     "metadata": {},
     "output_type": "execute_result"
    }
   ],
   "source": [
    "## pass hte list through df constructot\n",
    "cursor.description"
   ]
  },
  {
   "cell_type": "code",
   "execution_count": 12,
   "id": "3e0b67d9",
   "metadata": {
    "scrolled": true
   },
   "outputs": [
    {
     "data": {
      "text/html": [
       "<div>\n",
       "<style scoped>\n",
       "    .dataframe tbody tr th:only-of-type {\n",
       "        vertical-align: middle;\n",
       "    }\n",
       "\n",
       "    .dataframe tbody tr th {\n",
       "        vertical-align: top;\n",
       "    }\n",
       "\n",
       "    .dataframe thead th {\n",
       "        text-align: right;\n",
       "    }\n",
       "</style>\n",
       "<table border=\"1\" class=\"dataframe\">\n",
       "  <thead>\n",
       "    <tr style=\"text-align: right;\">\n",
       "      <th></th>\n",
       "      <th>name</th>\n",
       "      <th>address</th>\n",
       "      <th>city</th>\n",
       "      <th>state</th>\n",
       "      <th>zip</th>\n",
       "      <th>phone</th>\n",
       "    </tr>\n",
       "  </thead>\n",
       "  <tbody>\n",
       "    <tr>\n",
       "      <th>0</th>\n",
       "      <td>Thomas Shelby</td>\n",
       "      <td>1000 Giles Road</td>\n",
       "      <td>Papillion</td>\n",
       "      <td>NE</td>\n",
       "      <td>68046</td>\n",
       "      <td>123456789</td>\n",
       "    </tr>\n",
       "    <tr>\n",
       "      <th>1</th>\n",
       "      <td>Drew Brees</td>\n",
       "      <td>1001 Giles Road</td>\n",
       "      <td>Papillion</td>\n",
       "      <td>NE</td>\n",
       "      <td>68046</td>\n",
       "      <td>123456789</td>\n",
       "    </tr>\n",
       "    <tr>\n",
       "      <th>2</th>\n",
       "      <td>Optimus Prime</td>\n",
       "      <td>1002 Giles Road</td>\n",
       "      <td>Papillion</td>\n",
       "      <td>NE</td>\n",
       "      <td>68046</td>\n",
       "      <td>123456789</td>\n",
       "    </tr>\n",
       "    <tr>\n",
       "      <th>3</th>\n",
       "      <td>Megatron</td>\n",
       "      <td>1003 Giles Road</td>\n",
       "      <td>Papillion</td>\n",
       "      <td>NE</td>\n",
       "      <td>68046</td>\n",
       "      <td>123456789</td>\n",
       "    </tr>\n",
       "    <tr>\n",
       "      <th>4</th>\n",
       "      <td>Arthur Shelby</td>\n",
       "      <td>1004 Giles Road</td>\n",
       "      <td>Papillion</td>\n",
       "      <td>NE</td>\n",
       "      <td>68046</td>\n",
       "      <td>123456789</td>\n",
       "    </tr>\n",
       "    <tr>\n",
       "      <th>5</th>\n",
       "      <td>Naruto Uzumaki</td>\n",
       "      <td>1005 Giles Road</td>\n",
       "      <td>Papillion</td>\n",
       "      <td>NE</td>\n",
       "      <td>68046</td>\n",
       "      <td>123456789</td>\n",
       "    </tr>\n",
       "    <tr>\n",
       "      <th>6</th>\n",
       "      <td>Sasuke Uchiha</td>\n",
       "      <td>1006 Giles Road</td>\n",
       "      <td>Papillion</td>\n",
       "      <td>NE</td>\n",
       "      <td>68046</td>\n",
       "      <td>123456789</td>\n",
       "    </tr>\n",
       "    <tr>\n",
       "      <th>7</th>\n",
       "      <td>Alvin Kamara</td>\n",
       "      <td>1007 Giles Road</td>\n",
       "      <td>Papillion</td>\n",
       "      <td>NE</td>\n",
       "      <td>68046</td>\n",
       "      <td>123456789</td>\n",
       "    </tr>\n",
       "    <tr>\n",
       "      <th>8</th>\n",
       "      <td>Thomas the Train</td>\n",
       "      <td>1008 Giles Road</td>\n",
       "      <td>Papillion</td>\n",
       "      <td>NE</td>\n",
       "      <td>68046</td>\n",
       "      <td>123456789</td>\n",
       "    </tr>\n",
       "    <tr>\n",
       "      <th>9</th>\n",
       "      <td>Bill</td>\n",
       "      <td>1009 Giles Road</td>\n",
       "      <td>Papillion</td>\n",
       "      <td>NE</td>\n",
       "      <td>68046</td>\n",
       "      <td>123456789</td>\n",
       "    </tr>\n",
       "  </tbody>\n",
       "</table>\n",
       "</div>"
      ],
      "text/plain": [
       "               name          address       city state    zip      phone\n",
       "0     Thomas Shelby  1000 Giles Road  Papillion    NE  68046  123456789\n",
       "1        Drew Brees  1001 Giles Road  Papillion    NE  68046  123456789\n",
       "2     Optimus Prime  1002 Giles Road  Papillion    NE  68046  123456789\n",
       "3          Megatron  1003 Giles Road  Papillion    NE  68046  123456789\n",
       "4     Arthur Shelby  1004 Giles Road  Papillion    NE  68046  123456789\n",
       "5    Naruto Uzumaki  1005 Giles Road  Papillion    NE  68046  123456789\n",
       "6     Sasuke Uchiha  1006 Giles Road  Papillion    NE  68046  123456789\n",
       "7      Alvin Kamara  1007 Giles Road  Papillion    NE  68046  123456789\n",
       "8  Thomas the Train  1008 Giles Road  Papillion    NE  68046  123456789\n",
       "9              Bill  1009 Giles Road  Papillion    NE  68046  123456789"
      ]
     },
     "execution_count": 12,
     "metadata": {},
     "output_type": "execute_result"
    }
   ],
   "source": [
    "## create df\n",
    "pd.DataFrame(rows, columns=[x[0] for x in cursor.description])"
   ]
  }
 ],
 "metadata": {
  "kernelspec": {
   "display_name": "Python 3",
   "language": "python",
   "name": "python3"
  },
  "language_info": {
   "codemirror_mode": {
    "name": "ipython",
    "version": 3
   },
   "file_extension": ".py",
   "mimetype": "text/x-python",
   "name": "python",
   "nbconvert_exporter": "python",
   "pygments_lexer": "ipython3",
   "version": "3.8.8"
  }
 },
 "nbformat": 4,
 "nbformat_minor": 5
}
