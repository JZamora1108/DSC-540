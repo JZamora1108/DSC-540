{
 "cells": [
  {
   "cell_type": "code",
   "execution_count": 1,
   "id": "8b0ca65f",
   "metadata": {},
   "outputs": [],
   "source": [
    "##Task 1\n",
    "import random\n",
    "\n",
    "LIMIT = 100\n",
    "random_list = [random.randint(0, LIMIT) for x in range(0, LIMIT)]"
   ]
  },
  {
   "cell_type": "code",
   "execution_count": 2,
   "id": "7ac9de73",
   "metadata": {},
   "outputs": [
    {
     "name": "stdout",
     "output_type": "stream",
     "text": [
      "[60, 8, 6, 5, 41, 0, 17, 68, 64, 96, 46, 34, 18, 10, 78, 52, 12, 29, 84, 16, 57, 90, 65, 56, 97, 29, 49, 91, 76, 37, 16, 83, 5, 37, 7, 1, 53, 88, 44, 80, 78, 34, 100, 70, 41, 52, 48, 17, 55, 98, 3, 39, 21, 85, 62, 24, 73, 21, 60, 67, 10, 27, 45, 72, 11, 22, 10, 10, 43, 59, 74, 6, 88, 39, 53, 73, 6, 6, 55, 96, 0, 27, 0, 22, 95, 85, 68, 26, 78, 11, 99, 2, 80, 36, 42, 30, 0, 7, 51, 14]\n"
     ]
    }
   ],
   "source": [
    "print(random_list)"
   ]
  },
  {
   "cell_type": "code",
   "execution_count": 3,
   "id": "0342985e",
   "metadata": {},
   "outputs": [
    {
     "name": "stdout",
     "output_type": "stream",
     "text": [
      "[60, 6, 0, 96, 18, 78, 12, 84, 57, 90, 78, 48, 3, 39, 21, 24, 21, 60, 27, 45, 72, 6, 39, 6, 6, 96, 0, 27, 0, 78, 99, 36, 42, 30, 0, 51]\n"
     ]
    }
   ],
   "source": [
    "##Task 2 \n",
    "divisible_by_3 = [a for a in random_list if a % 3 == 0]\n",
    "print(divisible_by_3)"
   ]
  },
  {
   "cell_type": "code",
   "execution_count": 5,
   "id": "b4867096",
   "metadata": {},
   "outputs": [
    {
     "name": "stdout",
     "output_type": "stream",
     "text": [
      "64\n"
     ]
    }
   ],
   "source": [
    "##Task 3 \n",
    "random_list_length = len(random_list)\n",
    "divisible_by_3_length = len(divisible_by_3)\n",
    "difference = random_list_length - divisible_by_3_length\n",
    "print(difference)"
   ]
  },
  {
   "cell_type": "code",
   "execution_count": 12,
   "id": "08fea5b4",
   "metadata": {},
   "outputs": [
    {
     "data": {
      "text/plain": [
       "[62, 70, 71, 60, 68, 70, 67, 60, 62, 73]"
      ]
     },
     "execution_count": 12,
     "metadata": {},
     "output_type": "execute_result"
    }
   ],
   "source": [
    "##Task 4 \n",
    "test_multiplier = 10\n",
    "difference_list = []\n",
    "for i in range(0, test_multiplier):\n",
    "    random_list = [random.randint(0, LIMIT) for x in range(0, LIMIT)]\n",
    "    divisible_by_3 = [a for a in random_list if a % 3 == 0]\n",
    "    \n",
    "    random_list_length = len (random_list)\n",
    "    divisible_by_3_length = len (divisible_by_3)\n",
    "    difference = random_list_length - divisible_by_3_length\n",
    "    \n",
    "    difference_list.append(difference)\n",
    "difference_list"
   ]
  }
 ],
 "metadata": {
  "kernelspec": {
   "display_name": "Python 3",
   "language": "python",
   "name": "python3"
  },
  "language_info": {
   "codemirror_mode": {
    "name": "ipython",
    "version": 3
   },
   "file_extension": ".py",
   "mimetype": "text/x-python",
   "name": "python",
   "nbconvert_exporter": "python",
   "pygments_lexer": "ipython3",
   "version": "3.8.8"
  }
 },
 "nbformat": 4,
 "nbformat_minor": 5
}
