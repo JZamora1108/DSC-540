{
 "cells": [
  {
   "cell_type": "code",
   "execution_count": 2,
   "id": "1fc17466",
   "metadata": {},
   "outputs": [],
   "source": [
    "##Imports\n",
    "import pandas as pd\n",
    "import numpy as np\n",
    "import urllib.request, urllib.parse, urllib.error\n",
    "import requests\n",
    "from bs4 import BeautifulSoup\n",
    "import re"
   ]
  },
  {
   "cell_type": "code",
   "execution_count": 3,
   "id": "e4967d8f",
   "metadata": {},
   "outputs": [
    {
     "name": "stdout",
     "output_type": "stream",
     "text": [
      "<module 'os' from 'C:\\\\Users\\\\14029\\\\anaconda3\\\\lib\\\\os.py'>\n"
     ]
    }
   ],
   "source": [
    "##View Directory\n",
    "import os \n",
    "print(os)"
   ]
  },
  {
   "cell_type": "code",
   "execution_count": 4,
   "id": "0da71873",
   "metadata": {},
   "outputs": [],
   "source": [
    "gutenberg_url = 'https://www.gutenberg.org/browse/scores/top'\n",
    "\n",
    "##For SSL ceritficates verification will specify parameter verify=True\n",
    "resp = requests.get(gutenberg_url,verify=True)"
   ]
  },
  {
   "cell_type": "code",
   "execution_count": 5,
   "id": "87db0183",
   "metadata": {},
   "outputs": [],
   "source": [
    "##setting up pass/fail 0 for pass 225 for fail\n",
    "def status_check(r):\n",
    "    if r.status_code==200:\n",
    "        print(\"Success!\")\n",
    "        return 0\n",
    "    else:\n",
    "        print(\"Failed!\")\n",
    "        return 255"
   ]
  },
  {
   "cell_type": "code",
   "execution_count": 6,
   "id": "acfa2215",
   "metadata": {},
   "outputs": [
    {
     "name": "stdout",
     "output_type": "stream",
     "text": [
      "Success!\n"
     ]
    },
    {
     "data": {
      "text/plain": [
       "0"
      ]
     },
     "execution_count": 6,
     "metadata": {},
     "output_type": "execute_result"
    }
   ],
   "source": [
    "status_check(resp)"
   ]
  },
  {
   "cell_type": "code",
   "execution_count": 7,
   "id": "76daaff7",
   "metadata": {},
   "outputs": [],
   "source": [
    "soup = BeautifulSoup(resp.text)"
   ]
  },
  {
   "cell_type": "code",
   "execution_count": 8,
   "id": "580d7ce6",
   "metadata": {},
   "outputs": [
    {
     "data": {
      "text/plain": [
       "['/',\n",
       " '/about/',\n",
       " '/about/',\n",
       " '/policy/collection_development.html',\n",
       " '/about/contact_information.html',\n",
       " '/about/background/',\n",
       " '/policy/permission.html',\n",
       " '/policy/privacy_policy.html',\n",
       " '/policy/terms_of_use.html',\n",
       " '/ebooks/',\n",
       " '/ebooks/',\n",
       " '/ebooks/bookshelf/',\n",
       " '/browse/scores/top',\n",
       " '/ebooks/offline_catalogs.html',\n",
       " '/help/',\n",
       " '/help/',\n",
       " '/help/copyright.html',\n",
       " '/help/errata.html',\n",
       " '/help/file_formats.html',\n",
       " '/help/faq.html',\n",
       " '/policy/',\n",
       " '/help/public_domain_ebook_submission.html',\n",
       " '/help/submitting_your_own_work.html',\n",
       " '/help/mobile.html',\n",
       " '/attic/',\n",
       " '/donate/',\n",
       " '/donate/',\n",
       " '#books-last1',\n",
       " '#authors-last1',\n",
       " '#books-last7',\n",
       " '#authors-last7',\n",
       " '#books-last30',\n",
       " '#authors-last30',\n",
       " '/ebooks/84',\n",
       " '/ebooks/1342',\n",
       " '/ebooks/25344',\n",
       " '/ebooks/46',\n",
       " '/ebooks/1250',\n",
       " '/ebooks/345',\n",
       " '/ebooks/11',\n",
       " '/ebooks/2701',\n",
       " '/ebooks/174',\n",
       " '/ebooks/28548',\n",
       " '/ebooks/64317',\n",
       " '/ebooks/43',\n",
       " '/ebooks/1080',\n",
       " '/ebooks/2542',\n",
       " '/ebooks/844',\n",
       " '/ebooks/1661',\n",
       " '/ebooks/1260']"
      ]
     },
     "execution_count": 8,
     "metadata": {},
     "output_type": "execute_result"
    }
   ],
   "source": [
    "##Empty list to hold all the http links in the HTML page\n",
    "lst_links=[]\n",
    "\n",
    "##Find all the anchor tags <a> and then link inside it\n",
    "for link in soup.find_all('a'):\n",
    "    ##print(link.get('href'))\n",
    "    lst_links.append(link.get('href'))\n",
    "\n",
    "lst_links[:50]"
   ]
  },
  {
   "cell_type": "code",
   "execution_count": 9,
   "id": "e223a948",
   "metadata": {},
   "outputs": [
    {
     "data": {
      "text/plain": [
       "34"
      ]
     },
     "execution_count": 9,
     "metadata": {},
     "output_type": "execute_result"
    }
   ],
   "source": [
    "##hyperlinks from entry /ebook84 so begin search at that point to save time and cpu usaage\n",
    "##Find index of item /ebooks/84\n",
    "index_of_first_book_link = lst_links.index('/ebooks/1342')\n",
    "index_of_first_book_link"
   ]
  },
  {
   "cell_type": "code",
   "execution_count": 11,
   "id": "df30b85d",
   "metadata": {},
   "outputs": [],
   "source": [
    "##searching for most popular books starting loop at 34-134\n",
    "booknum=[]\n",
    "for i in range(34,134):\n",
    "    link=lst_links[i]\n",
    "    link=link.strip()\n",
    "    # Regular expression to find the numeric digits in the link (href) string\n",
    "    n=re.findall('[0-9]+',link)\n",
    "    if len(n)==1:\n",
    "        # Append the filenumber casted as integer\n",
    "        booknum.append(n[0])"
   ]
  },
  {
   "cell_type": "code",
   "execution_count": 12,
   "id": "8309ddcc",
   "metadata": {},
   "outputs": [
    {
     "name": "stdout",
     "output_type": "stream",
     "text": [
      "\n",
      "The file numbers for the top 10 ebooks on Gutenberg are shown below\n",
      "\n",
      "Winners are:\n",
      "1342\n",
      "25344\n",
      "46\n",
      "1250\n",
      "345\n",
      "11\n",
      "2701\n",
      "174\n",
      "28548\n",
      "64317\n"
     ]
    }
   ],
   "source": [
    "##printing for out come of top 10 ebooks\n",
    "print (\"\\nThe file numbers for the top 10 ebooks on Gutenberg are shown below\\n\")\n",
    "nl = '\\n'\n",
    "text = f\"Winners are:{nl}{nl.join(booknum[:10])}\"\n",
    "print(text)"
   ]
  },
  {
   "cell_type": "code",
   "execution_count": 13,
   "id": "64cdc59e",
   "metadata": {},
   "outputs": [
    {
     "name": "stdout",
     "output_type": "stream",
     "text": [
      "\n",
      "\n",
      "\n",
      "Top 100 | Project Gutenberg\n",
      "\n",
      "\n",
      "\n",
      "\n",
      "\n",
      "\n",
      "\n",
      "\n",
      "\n",
      "\n",
      "\n",
      "\n",
      "\n",
      "\n",
      "\n",
      "\n",
      "\n",
      "\n",
      "\n",
      "\n",
      "\n",
      "\n",
      "\n",
      "\n",
      "\n",
      "\n",
      "\n",
      "Menu▾\n",
      "\n",
      "\n",
      "\n",
      "About\n",
      "          ▾\n",
      "\n",
      "▾\n",
      "\n",
      "\n",
      "About Project Gutenberg\n",
      "Collection Development\n",
      "Contact Us\n",
      "History & Philosophy\n",
      "Permissions & License\n",
      "Privacy Policy\n",
      "Terms of Use\n",
      "\n",
      "\n",
      "\n",
      "Search and Browse\n",
      "      \t  ▾\n",
      "\n",
      "▾\n",
      "\n",
      "\n",
      "Book Search\n",
      "Bookshelves\n",
      "Frequently Downloaded\n",
      "Offline Catalogs\n",
      "\n",
      "\n",
      "\n",
      "Help\n",
      "          ▾\n",
      "\n",
      "▾\n",
      "\n",
      "\n",
      "All help topics →\n",
      "Copyright Procedures\n",
      "Errata, Fixes and Bug Reports\n",
      "File Formats\n",
      "Frequently Asked Questions\n",
      "Policies →\n",
      "Public Domain eBook Submission\n",
      "Submitting Your Own Work\n",
      "Tablets, Phones and eReaders\n",
      "The Attic →\n",
      "\n",
      "\n",
      "Donate\n",
      "\n",
      "\n",
      "\n",
      "\n",
      "\n",
      "\n",
      "\n",
      "\n",
      "\n",
      "\n",
      "Donation\n",
      "\n",
      "\n",
      "\n",
      "\n",
      "\n",
      "\n",
      "\n",
      "Frequently Viewed or Downloaded\n",
      "These listings are based on the number of times each eBook gets downloaded.\n",
      "      Multiple downloads from the same Internet address on the same day count as one download, and addresses that download more than 100 eBooks in a day are considered robots and are not counted.\n",
      "\n",
      "Downloaded Books\n",
      "2021-11-05161900\n",
      "last 7 days1176730\n",
      "last 30 days4937924\n",
      "\n",
      "\n",
      "\n",
      "Top 100 EBooks yesterday\n",
      "Top 100 Authors yesterday\n",
      "Top 100 EBooks last 7 days\n",
      "Top 100 Authors last 7 days\n",
      "Top 100 EBooks la \n"
     ]
    }
   ],
   "source": [
    "print(f\"{ soup.text[:1100] } \")"
   ]
  },
  {
   "cell_type": "code",
   "execution_count": 16,
   "id": "7439e480",
   "metadata": {},
   "outputs": [],
   "source": [
    "##first book in list and then using splitlines to turn textlines to a list\n",
    "##Temp empty list of Ebook names\n",
    "lst_titles_temp=[]\n",
    "start_idx=soup.text.splitlines().index('Frankenstein; Or, The Modern Prometheus by Mary Wollstonecraft Shelley (83957)')"
   ]
  },
  {
   "cell_type": "code",
   "execution_count": 17,
   "id": "08a2157c",
   "metadata": {},
   "outputs": [],
   "source": [
    "##taking the number for 1-100 range\n",
    "for i in range(100):\n",
    "    lst_titles_temp.append(soup.text.splitlines()[start_idx+i])"
   ]
  },
  {
   "cell_type": "code",
   "execution_count": 18,
   "id": "43915fdd",
   "metadata": {},
   "outputs": [],
   "source": [
    "##removing everything but title\n",
    "lst_titles=[]\n",
    "for i in range(100):\n",
    "    id1,id2=re.match('^[a-zA-Z ]*',lst_titles_temp[i]).span()\n",
    "    lst_titles.append(lst_titles_temp[i][id1:id2])"
   ]
  },
  {
   "cell_type": "code",
   "execution_count": 19,
   "id": "ae090194",
   "metadata": {},
   "outputs": [
    {
     "name": "stdout",
     "output_type": "stream",
     "text": [
      "Frankenstein\n",
      "Pride and Prejudice by Jane Austen \n",
      "The Scarlet Letter by Nathaniel Hawthorne \n",
      "Alice\n",
      "Dracula by Bram Stoker \n",
      "Moby Dick\n",
      "A Christmas Carol in Prose\n",
      "A Doll\n",
      "The Picture of Dorian Gray by Oscar Wilde \n",
      "The Legend of Sleepy Hollow by Washington Irving \n",
      "The Adventures of Sherlock Holmes by Arthur Conan Doyle \n",
      "A Modest Proposal by Jonathan Swift \n",
      "The Yellow Wallpaper by Charlotte Perkins Gilman \n",
      "The Strange Case of Dr\n",
      "A Tale of Two Cities by Charles Dickens \n",
      "The Great Gatsby by F\n",
      "Metamorphosis by Franz Kafka \n",
      "Jane Eyre\n",
      "The Prince by Niccol\n",
      "Heart of Darkness by Joseph Conrad \n",
      "The Importance of Being Earnest\n",
      "The Souls of Black Folk by W\n",
      "Walden\n",
      "Anthem by Ayn Rand \n",
      "Grimms\n",
      "The Odyssey by Homer \n",
      "Old Granny Fox by Thornton W\n",
      "Narrative of the Life of Frederick Douglass\n",
      "Adventures of Huckleberry Finn by Mark Twain \n",
      "Beowulf\n",
      "Crime and Punishment by Fyodor Dostoyevsky \n",
      "The Iliad by Homer \n",
      "The Awakening\n",
      "The Adventures of Tom Sawyer\n",
      "Second Treatise of Government by John Locke \n",
      "Leviathan by Thomas Hobbes \n",
      "The Wonderful Wizard of Oz by L\n",
      "Ulysses by James Joyce \n",
      "Peter Pan by J\n",
      "Dubliners by James Joyce \n",
      "Little Women by Louisa May Alcott \n",
      "Great Expectations by Charles Dickens \n",
      "The Hound of the Baskervilles by Arthur Conan Doyle \n",
      "War and Peace by graf Leo Tolstoy \n",
      "The Count of Monte Cristo\n",
      "Anne of Green Gables by L\n",
      "Don Quixote by Miguel de Cervantes Saavedra \n",
      "Tractatus Logico\n",
      "The Republic by Plato \n",
      "Treasure Island by Robert Louis Stevenson \n",
      "The Works of Edgar Allan Poe \n",
      "Uncle Tom\n",
      "Pygmalion by Bernard Shaw \n",
      "Wuthering Heights by Emily Bront\n",
      "The Prophet by Kahlil Gibran \n",
      "The Interesting Narrative of the Life of Olaudah Equiano\n",
      "The Call of the Wild by Jack London \n",
      "The American Diary of a Japanese Girl by Yon\n",
      "The Philippine Islands\n",
      "Essays of Michel de Montaigne \n",
      "Autobiography of Benjamin Franklin by Benjamin Franklin \n",
      "The War of the Worlds by H\n",
      "Emma by Jane Austen \n",
      "Carmilla by Joseph Sheridan Le Fanu \n",
      "The Tragical History of Doctor Faustus by Christopher Marlowe \n",
      "A Study in Scarlet by Arthur Conan Doyle \n",
      "Les Mis\n",
      "The Time Machine by H\n",
      "The Romance of Lust\n",
      "A Pickle for the Knowing Ones by Timothy Dexter \n",
      "The Brothers Karamazov by Fyodor Dostoyevsky \n",
      "On Liberty by John Stuart Mill \n",
      "Incidents in the Life of a Slave Girl\n",
      "Gulliver\n",
      "Oliver Twist by Charles Dickens \n",
      "The Turn of the Screw by Henry James \n",
      "Candide by Voltaire \n",
      "Thus Spake Zarathustra\n",
      "Japanese Girls and Women by Alice Mabel Bacon \n",
      "Beyond Good and Evil by Friedrich Wilhelm Nietzsche \n",
      "Ethan Frome by Edith Wharton \n",
      "Bleak House by Charles Dickens \n",
      "Siddhartha by Hermann Hesse \n",
      "The Communist Manifesto by Friedrich Engels and Karl Marx \n",
      "Narrative of the Captivity and Restoration of Mrs\n",
      "Korean\n",
      "David Copperfield by Charles Dickens \n",
      "Common Sense by Thomas Paine \n",
      "The Confessions of St\n",
      "The Happy Prince\n",
      "The Life and Adventures of Robinson Crusoe by Daniel Defoe \n",
      "The Jungle by Upton Sinclair \n",
      "Frankenstein\n",
      "The Jungle Book by Rudyard Kipling \n",
      "Le Morte d\n",
      "Sense and Sensibility by Jane Austen \n",
      "The Secret Garden by Frances Hodgson Burnett \n",
      "Andersen\n",
      "Songs of Innocence\n",
      "The King James Version of the Bible \n"
     ]
    }
   ],
   "source": [
    "for l in lst_titles:\n",
    "    print(l)"
   ]
  }
 ],
 "metadata": {
  "kernelspec": {
   "display_name": "Python 3",
   "language": "python",
   "name": "python3"
  },
  "language_info": {
   "codemirror_mode": {
    "name": "ipython",
    "version": 3
   },
   "file_extension": ".py",
   "mimetype": "text/x-python",
   "name": "python",
   "nbconvert_exporter": "python",
   "pygments_lexer": "ipython3",
   "version": "3.8.8"
  }
 },
 "nbformat": 4,
 "nbformat_minor": 5
}
