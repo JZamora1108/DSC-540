{
 "cells": [
  {
   "cell_type": "code",
   "execution_count": 1,
   "id": "cc4ddd66",
   "metadata": {},
   "outputs": [],
   "source": [
    "##Task 1\n",
    "multiline_text = \"\"\"It is a truth universally acknowledged, that a single man in possession of a good fortune, must be in want of a wife.\n",
    "\n",
    "However little known the feelings or views of such a man may be on his first entering a neighbourhood, this truth is so well fixed in the minds of the surrounding families, that he is considered the rightful property of some one or other of their daughters.\n",
    "\n",
    "\"My dear Mr. Bennet,\" said his lady to him one day, \"have you heard that Netherfield Park is let at last?\"\n",
    "\n",
    "Mr. Bennet replied that he had not.\n",
    "\n",
    "\"But it is,\" returned she; \"for Mrs. Long has just been here, and she told me all about it.\"\n",
    "\n",
    "Mr. Bennet made no answer.\n",
    "\n",
    "\"Do you not want to know who has taken it?\" cried his wife impatiently.\n",
    "\n",
    "\"You want to tell me, and I have no objection to hearing it.\"\n",
    "\n",
    "This was invitation enough.\n",
    "\n",
    "\"Why, my dear, you must know, Mrs. Long says that Netherfield is taken by a young man of large fortune from the north of England; that he came down on Monday in a chaise and four to see the place, and was so much delighted with it, that he agreed with Mr. Morris immediately; that he is to take possession before Michaelmas, and some of his servants are to be in the house by the end of next week.\"\n",
    "\n",
    "\"What is his name?\"\n",
    "\n",
    "\"Bingley.\"\n",
    "\n",
    "\"Is he married or single?\"\n",
    "\n",
    "\"Oh! Single, my dear, to be sure! A single man of large fortune; four or five thousand a year. What a fine thing for our girls!\"\n",
    "\n",
    "\"How so? How can it affect them?\"\n",
    "\n",
    "\"My dear Mr. Bennet,\" replied his wife, \"how can you be so tiresome! You must know that I am thinking of his marrying one of them.\"\n",
    "\n",
    "\"Is that his design in settling here?\"\n",
    "\n",
    "\"Design! Nonsense, how can you talk so! But it is very likely that he may fall in love with one of them, and therefore you must visit him as soon as he comes.\"\n",
    "\n",
    "\"I see no occasion for that. You and the girls may go, or you may send them by themselves, which perhaps will be still better, for as you are as handsome as any of them, Mr. Bingley may like you the best of the party.\"\n",
    "\n",
    "\"My dear, you flatter me. I certainly have had my share of beauty, but I do not pretend to be anything extraordinary now. When a woman has five grown-up daughters, she ought to give over thinking of her own beauty.\"\n",
    "\n",
    "\"In such cases, a woman has not often much beauty to think of.\"\n",
    "\n",
    "\"But, my dear, you must indeed go and see Mr. Bingley when he comes into the neighbourhood.\"\n",
    "\n",
    "\"It is more than I engage for, I assure you.\"\n",
    "\n",
    "\"But consider your daughters. Only think what an establishment it would be for one of them. Sir William and Lady Lucas are determined to go, merely on that account, for in general, you know, they visit no newcomers. Indeed you must go, for it will be impossible for us to visit him if you do not.\"\n",
    "\n",
    "\"You are over-scrupulous, surely. I dare say Mr. Bingley will be very glad to see you; and I will send a few lines by you to assure him of my hearty consent to his marrying whichever he chooses of the girls; though I must throw in a good word for my little Lizzy.\"\n",
    "\n",
    "\"I desire you will do no such thing. Lizzy is not a bit better than the others; and I am sure she is not half so handsome as Jane, nor half so good-humoured as Lydia. But you are always giving her the preference.\"\n",
    "\n",
    "\"They have none of them much to recommend them,\" replied he; \"they are all silly and ignorant like other girls; but Lizzy has something more of quickness than her sisters.\"\n",
    "\n",
    "\"Mr. Bennet, how can you abuse your own children in such a way? You take delight in vexing me. You have no compassion for my poor nerves.\"\n",
    "\n",
    "\"You mistake me, my dear. I have a high respect for your nerves. They are my old friends. I have heard you mention them with consideration these last twenty years at least.\"\n",
    "\n",
    "\"Ah, you do not know what I suffer.\"\n",
    "\n",
    "\"But I hope you will get over it, and live to see many young men of four thousand a year come into the neighbourhood.\"\n",
    "\n",
    "\"It will be no use to us, if twenty such should come, since you will not visit them.\"\n",
    "\n",
    "\"Depend upon it, my dear, that when there are twenty, I will visit them all.\"\n",
    "\n",
    "Mr. Bennet was so odd a mixture of quick parts, sarcastic humour, reserve, and caprice, that the experience of three-and-twenty years had been insufficient to make his wife understand his character. Her mind was less difficult to develop. She was a woman of mean understanding, little information, and uncertain temper. When she was discontented, she fancied herself nervous. The business of her life was to get her daughters married; its solace was visiting and news. \"\"\""
   ]
  },
  {
   "cell_type": "code",
   "execution_count": 2,
   "id": "3a304763",
   "metadata": {},
   "outputs": [
    {
     "data": {
      "text/plain": [
       "str"
      ]
     },
     "execution_count": 2,
     "metadata": {},
     "output_type": "execute_result"
    }
   ],
   "source": [
    "type(multiline_text)"
   ]
  },
  {
   "cell_type": "code",
   "execution_count": 3,
   "id": "46f34557",
   "metadata": {},
   "outputs": [
    {
     "data": {
      "text/plain": [
       "4475"
      ]
     },
     "execution_count": 3,
     "metadata": {},
     "output_type": "execute_result"
    }
   ],
   "source": [
    "len(multiline_text)"
   ]
  },
  {
   "cell_type": "code",
   "execution_count": 4,
   "id": "54fdaf75",
   "metadata": {},
   "outputs": [
    {
     "data": {
      "text/plain": [
       "'It is a truth universally acknowledged, that a single man in possession of a good fortune, must be in want of a wife.\\n\\nHowever little known the feelings or views of such a man may be on his first entering a neighbourhood, this truth is so well fixed in the minds of the surrounding families, that he is considered the rightful property of some one or other of their daughters.\\n\\n\"My dear Mr. Bennet,\" said his lady to him one day, \"have you heard that Netherfield Park is let at last?\"\\n\\nMr. Bennet replied that he had not.\\n\\n\"But it is,\" returned she; \"for Mrs. Long has just been here, and she told me all about it.\"\\n\\nMr. Bennet made no answer.\\n\\n\"Do you not want to know who has taken it?\" cried his wife impatiently.\\n\\n\"You want to tell me, and I have no objection to hearing it.\"\\n\\nThis was invitation enough.\\n\\n\"Why, my dear, you must know, Mrs. Long says that Netherfield is taken by a young man of large fortune from the north of England; that he came down on Monday in a chaise and four to see the place, and was so much delighted with it, that he agreed with Mr. Morris immediately; that he is to take possession before Michaelmas, and some of his servants are to be in the house by the end of next week.\"\\n\\n\"What is his name?\"\\n\\n\"Bingley.\"\\n\\n\"Is he married or single?\"\\n\\n\"Oh! Single, my dear, to be sure! A single man of large fortune; four or five thousand a year. What a fine thing for our girls!\"\\n\\n\"How so? How can it affect them?\"\\n\\n\"My dear Mr. Bennet,\" replied his wife, \"how can you be so tiresome! You must know that I am thinking of his marrying one of them.\"\\n\\n\"Is that his design in settling here?\"\\n\\n\"Design! Nonsense, how can you talk so! But it is very likely that he may fall in love with one of them, and therefore you must visit him as soon as he comes.\"\\n\\n\"I see no occasion for that. You and the girls may go, or you may send them by themselves, which perhaps will be still better, for as you are as handsome as any of them, Mr. Bingley may like you the best of the party.\"\\n\\n\"My dear, you flatter me. I certainly have had my share of beauty, but I do not pretend to be anything extraordinary now. When a woman has five grown-up daughters, she ought to give over thinking of her own beauty.\"\\n\\n\"In such cases, a woman has not often much beauty to think of.\"\\n\\n\"But, my dear, you must indeed go and see Mr. Bingley when he comes into the neighbourhood.\"\\n\\n\"It is more than I engage for, I assure you.\"\\n\\n\"But consider your daughters. Only think what an establishment it would be for one of them. Sir William and Lady Lucas are determined to go, merely on that account, for in general, you know, they visit no newcomers. Indeed you must go, for it will be impossible for us to visit him if you do not.\"\\n\\n\"You are over-scrupulous, surely. I dare say Mr. Bingley will be very glad to see you; and I will send a few lines by you to assure him of my hearty consent to his marrying whichever he chooses of the girls; though I must throw in a good word for my little Lizzy.\"\\n\\n\"I desire you will do no such thing. Lizzy is not a bit better than the others; and I am sure she is not half so handsome as Jane, nor half so good-humoured as Lydia. But you are always giving her the preference.\"\\n\\n\"They have none of them much to recommend them,\" replied he; \"they are all silly and ignorant like other girls; but Lizzy has something more of quickness than her sisters.\"\\n\\n\"Mr. Bennet, how can you abuse your own children in such a way? You take delight in vexing me. You have no compassion for my poor nerves.\"\\n\\n\"You mistake me, my dear. I have a high respect for your nerves. They are my old friends. I have heard you mention them with consideration these last twenty years at least.\"\\n\\n\"Ah, you do not know what I suffer.\"\\n\\n\"But I hope you will get over it, and live to see many young men of four thousand a year come into the neighbourhood.\"\\n\\n\"It will be no use to us, if twenty such should come, since you will not visit them.\"\\n\\n\"Depend upon it, my dear, that when there are twenty, I will visit them all.\"\\n\\nMr. Bennet was so odd a mixture of quick parts, sarcastic humour, reserve, and caprice, that the experience of three-and-twenty years had been insufficient to make his wife understand his character. Her mind was less difficult to develop. She was a woman of mean understanding, little information, and uncertain temper. When she was discontented, she fancied herself nervous. The business of her life was to get her daughters married; its solace was visiting and news. '"
      ]
     },
     "execution_count": 4,
     "metadata": {},
     "output_type": "execute_result"
    }
   ],
   "source": [
    "##Task 2\n",
    "multinline_text = multiline_text.replace('\\n', \"\")\n",
    "multiline_text"
   ]
  },
  {
   "cell_type": "code",
   "execution_count": 10,
   "id": "dc5f8786",
   "metadata": {},
   "outputs": [
    {
     "data": {
      "text/plain": [
       "'It is a truth universally acknowledged  that a single man in possession of a good fortune  must be in want of a wife   However little known the feelings or views of such a man may be on his first entering a neighbourhood  this truth is so well fixed in the minds of the surrounding families  that he is considered the rightful property of some one or other of their daughters    My dear Mr  Bennet   said his lady to him one day   have you heard that Netherfield Park is let at last    Mr  Bennet replied that he had not    But it is   returned she   for Mrs  Long has just been here  and she told me all about it    Mr  Bennet made no answer    Do you not want to know who has taken it   cried his wife impatiently    You want to tell me  and I have no objection to hearing it    This was invitation enough    Why  my dear  you must know  Mrs  Long says that Netherfield is taken by a young man of large fortune from the north of England  that he came down on Monday in a chaise and four to see the place  and was so much delighted with it  that he agreed with Mr  Morris immediately  that he is to take possession before Michaelmas  and some of his servants are to be in the house by the end of next week     What is his name     Bingley     Is he married or single     Oh  Single  my dear  to be sure  A single man of large fortune  four or five thousand a year  What a fine thing for our girls     How so  How can it affect them     My dear Mr  Bennet   replied his wife   how can you be so tiresome  You must know that I am thinking of his marrying one of them     Is that his design in settling here     Design  Nonsense  how can you talk so  But it is very likely that he may fall in love with one of them  and therefore you must visit him as soon as he comes     I see no occasion for that  You and the girls may go  or you may send them by themselves  which perhaps will be still better  for as you are as handsome as any of them  Mr  Bingley may like you the best of the party     My dear  you flatter me  I certainly have had my share of beauty  but I do not pretend to be anything extraordinary now  When a woman has five grown up daughters  she ought to give over thinking of her own beauty     In such cases  a woman has not often much beauty to think of     But  my dear  you must indeed go and see Mr  Bingley when he comes into the neighbourhood     It is more than I engage for  I assure you     But consider your daughters  Only think what an establishment it would be for one of them  Sir William and Lady Lucas are determined to go  merely on that account  for in general  you know  they visit no newcomers  Indeed you must go  for it will be impossible for us to visit him if you do not     You are over scrupulous  surely  I dare say Mr  Bingley will be very glad to see you  and I will send a few lines by you to assure him of my hearty consent to his marrying whichever he chooses of the girls  though I must throw in a good word for my little Lizzy     I desire you will do no such thing  Lizzy is not a bit better than the others  and I am sure she is not half so handsome as Jane  nor half so good humoured as Lydia  But you are always giving her the preference     They have none of them much to recommend them   replied he   they are all silly and ignorant like other girls  but Lizzy has something more of quickness than her sisters     Mr  Bennet  how can you abuse your own children in such a way  You take delight in vexing me  You have no compassion for my poor nerves     You mistake me  my dear  I have a high respect for your nerves  They are my old friends  I have heard you mention them with consideration these last twenty years at least     Ah  you do not know what I suffer     But I hope you will get over it  and live to see many young men of four thousand a year come into the neighbourhood     It will be no use to us  if twenty such should come  since you will not visit them     Depend upon it  my dear  that when there are twenty  I will visit them all    Mr  Bennet was so odd a mixture of quick parts  sarcastic humour  reserve  and caprice  that the experience of three and twenty years had been insufficient to make his wife understand his character  Her mind was less difficult to develop  She was a woman of mean understanding  little information  and uncertain temper  When she was discontented  she fancied herself nervous  The business of her life was to get her daughters married  its solace was visiting and news  '"
      ]
     },
     "execution_count": 10,
     "metadata": {},
     "output_type": "execute_result"
    }
   ],
   "source": [
    "multiline_text_clean = \"\"\n",
    "for char in multiline_text:\n",
    "    if char == \" \":\n",
    "        multiline_text_clean += char\n",
    "    elif char.isalnum():\n",
    "        multiline_text_clean += char\n",
    "    else:\n",
    "        multiline_text_clean += \" \"\n",
    "multiline_text_clean"
   ]
  },
  {
   "cell_type": "code",
   "execution_count": 11,
   "id": "f92927a7",
   "metadata": {},
   "outputs": [
    {
     "name": "stdout",
     "output_type": "stream",
     "text": [
      "['It', 'is', 'a', 'truth', 'universally', 'acknowledged', 'that', 'a', 'single', 'man', 'in', 'possession', 'of', 'a', 'good', 'fortune', 'must', 'be', 'in', 'want', 'of', 'a', 'wife', 'However', 'little', 'known', 'the', 'feelings', 'or', 'views', 'of', 'such', 'a', 'man', 'may', 'be', 'on', 'his', 'first', 'entering', 'a', 'neighbourhood', 'this', 'truth', 'is', 'so', 'well', 'fixed', 'in', 'the', 'minds', 'of', 'the', 'surrounding', 'families', 'that', 'he', 'is', 'considered', 'the', 'rightful', 'property', 'of', 'some', 'one', 'or', 'other', 'of', 'their', 'daughters', 'My', 'dear', 'Mr', 'Bennet', 'said', 'his', 'lady', 'to', 'him', 'one', 'day', 'have', 'you', 'heard', 'that', 'Netherfield', 'Park', 'is', 'let', 'at', 'last', 'Mr', 'Bennet', 'replied', 'that', 'he', 'had', 'not', 'But', 'it', 'is', 'returned', 'she', 'for', 'Mrs', 'Long', 'has', 'just', 'been', 'here', 'and', 'she', 'told', 'me', 'all', 'about', 'it', 'Mr', 'Bennet', 'made', 'no', 'answer', 'Do', 'you', 'not', 'want', 'to', 'know', 'who', 'has', 'taken', 'it', 'cried', 'his', 'wife', 'impatiently', 'You', 'want', 'to', 'tell', 'me', 'and', 'I', 'have', 'no', 'objection', 'to', 'hearing', 'it', 'This', 'was', 'invitation', 'enough', 'Why', 'my', 'dear', 'you', 'must', 'know', 'Mrs', 'Long', 'says', 'that', 'Netherfield', 'is', 'taken', 'by', 'a', 'young', 'man', 'of', 'large', 'fortune', 'from', 'the', 'north', 'of', 'England', 'that', 'he', 'came', 'down', 'on', 'Monday', 'in', 'a', 'chaise', 'and', 'four', 'to', 'see', 'the', 'place', 'and', 'was', 'so', 'much', 'delighted', 'with', 'it', 'that', 'he', 'agreed', 'with', 'Mr', 'Morris', 'immediately', 'that', 'he', 'is', 'to', 'take', 'possession', 'before', 'Michaelmas', 'and', 'some', 'of', 'his', 'servants', 'are', 'to', 'be', 'in', 'the', 'house', 'by', 'the', 'end', 'of', 'next', 'week', 'What', 'is', 'his', 'name', 'Bingley', 'Is', 'he', 'married', 'or', 'single', 'Oh', 'Single', 'my', 'dear', 'to', 'be', 'sure', 'A', 'single', 'man', 'of', 'large', 'fortune', 'four', 'or', 'five', 'thousand', 'a', 'year', 'What', 'a', 'fine', 'thing', 'for', 'our', 'girls', 'How', 'so', 'How', 'can', 'it', 'affect', 'them', 'My', 'dear', 'Mr', 'Bennet', 'replied', 'his', 'wife', 'how', 'can', 'you', 'be', 'so', 'tiresome', 'You', 'must', 'know', 'that', 'I', 'am', 'thinking', 'of', 'his', 'marrying', 'one', 'of', 'them', 'Is', 'that', 'his', 'design', 'in', 'settling', 'here', 'Design', 'Nonsense', 'how', 'can', 'you', 'talk', 'so', 'But', 'it', 'is', 'very', 'likely', 'that', 'he', 'may', 'fall', 'in', 'love', 'with', 'one', 'of', 'them', 'and', 'therefore', 'you', 'must', 'visit', 'him', 'as', 'soon', 'as', 'he', 'comes', 'I', 'see', 'no', 'occasion', 'for', 'that', 'You', 'and', 'the', 'girls', 'may', 'go', 'or', 'you', 'may', 'send', 'them', 'by', 'themselves', 'which', 'perhaps', 'will', 'be', 'still', 'better', 'for', 'as', 'you', 'are', 'as', 'handsome', 'as', 'any', 'of', 'them', 'Mr', 'Bingley', 'may', 'like', 'you', 'the', 'best', 'of', 'the', 'party', 'My', 'dear', 'you', 'flatter', 'me', 'I', 'certainly', 'have', 'had', 'my', 'share', 'of', 'beauty', 'but', 'I', 'do', 'not', 'pretend', 'to', 'be', 'anything', 'extraordinary', 'now', 'When', 'a', 'woman', 'has', 'five', 'grown', 'up', 'daughters', 'she', 'ought', 'to', 'give', 'over', 'thinking', 'of', 'her', 'own', 'beauty', 'In', 'such', 'cases', 'a', 'woman', 'has', 'not', 'often', 'much', 'beauty', 'to', 'think', 'of', 'But', 'my', 'dear', 'you', 'must', 'indeed', 'go', 'and', 'see', 'Mr', 'Bingley', 'when', 'he', 'comes', 'into', 'the', 'neighbourhood', 'It', 'is', 'more', 'than', 'I', 'engage', 'for', 'I', 'assure', 'you', 'But', 'consider', 'your', 'daughters', 'Only', 'think', 'what', 'an', 'establishment', 'it', 'would', 'be', 'for', 'one', 'of', 'them', 'Sir', 'William', 'and', 'Lady', 'Lucas', 'are', 'determined', 'to', 'go', 'merely', 'on', 'that', 'account', 'for', 'in', 'general', 'you', 'know', 'they', 'visit', 'no', 'newcomers', 'Indeed', 'you', 'must', 'go', 'for', 'it', 'will', 'be', 'impossible', 'for', 'us', 'to', 'visit', 'him', 'if', 'you', 'do', 'not', 'You', 'are', 'over', 'scrupulous', 'surely', 'I', 'dare', 'say', 'Mr', 'Bingley', 'will', 'be', 'very', 'glad', 'to', 'see', 'you', 'and', 'I', 'will', 'send', 'a', 'few', 'lines', 'by', 'you', 'to', 'assure', 'him', 'of', 'my', 'hearty', 'consent', 'to', 'his', 'marrying', 'whichever', 'he', 'chooses', 'of', 'the', 'girls', 'though', 'I', 'must', 'throw', 'in', 'a', 'good', 'word', 'for', 'my', 'little', 'Lizzy', 'I', 'desire', 'you', 'will', 'do', 'no', 'such', 'thing', 'Lizzy', 'is', 'not', 'a', 'bit', 'better', 'than', 'the', 'others', 'and', 'I', 'am', 'sure', 'she', 'is', 'not', 'half', 'so', 'handsome', 'as', 'Jane', 'nor', 'half', 'so', 'good', 'humoured', 'as', 'Lydia', 'But', 'you', 'are', 'always', 'giving', 'her', 'the', 'preference', 'They', 'have', 'none', 'of', 'them', 'much', 'to', 'recommend', 'them', 'replied', 'he', 'they', 'are', 'all', 'silly', 'and', 'ignorant', 'like', 'other', 'girls', 'but', 'Lizzy', 'has', 'something', 'more', 'of', 'quickness', 'than', 'her', 'sisters', 'Mr', 'Bennet', 'how', 'can', 'you', 'abuse', 'your', 'own', 'children', 'in', 'such', 'a', 'way', 'You', 'take', 'delight', 'in', 'vexing', 'me', 'You', 'have', 'no', 'compassion', 'for', 'my', 'poor', 'nerves', 'You', 'mistake', 'me', 'my', 'dear', 'I', 'have', 'a', 'high', 'respect', 'for', 'your', 'nerves', 'They', 'are', 'my', 'old', 'friends', 'I', 'have', 'heard', 'you', 'mention', 'them', 'with', 'consideration', 'these', 'last', 'twenty', 'years', 'at', 'least', 'Ah', 'you', 'do', 'not', 'know', 'what', 'I', 'suffer', 'But', 'I', 'hope', 'you', 'will', 'get', 'over', 'it', 'and', 'live', 'to', 'see', 'many', 'young', 'men', 'of', 'four', 'thousand', 'a', 'year', 'come', 'into', 'the', 'neighbourhood', 'It', 'will', 'be', 'no', 'use', 'to', 'us', 'if', 'twenty', 'such', 'should', 'come', 'since', 'you', 'will', 'not', 'visit', 'them', 'Depend', 'upon', 'it', 'my', 'dear', 'that', 'when', 'there', 'are', 'twenty', 'I', 'will', 'visit', 'them', 'all', 'Mr', 'Bennet', 'was', 'so', 'odd', 'a', 'mixture', 'of', 'quick', 'parts', 'sarcastic', 'humour', 'reserve', 'and', 'caprice', 'that', 'the', 'experience', 'of', 'three', 'and', 'twenty', 'years', 'had', 'been', 'insufficient', 'to', 'make', 'his', 'wife', 'understand', 'his', 'character', 'Her', 'mind', 'was', 'less', 'difficult', 'to', 'develop', 'She', 'was', 'a', 'woman', 'of', 'mean', 'understanding', 'little', 'information', 'and', 'uncertain', 'temper', 'When', 'she', 'was', 'discontented', 'she', 'fancied', 'herself', 'nervous', 'The', 'business', 'of', 'her', 'life', 'was', 'to', 'get', 'her', 'daughters', 'married', 'its', 'solace', 'was', 'visiting', 'and', 'news']\n"
     ]
    }
   ],
   "source": [
    "##Task 3 \n",
    "words_list = multiline_text_clean.split()\n",
    "print(words_list)"
   ]
  },
  {
   "cell_type": "code",
   "execution_count": 12,
   "id": "3d6dc3c8",
   "metadata": {},
   "outputs": [
    {
     "data": {
      "text/plain": [
       "852"
      ]
     },
     "execution_count": 12,
     "metadata": {},
     "output_type": "execute_result"
    }
   ],
   "source": [
    "len(words_list)"
   ]
  },
  {
   "cell_type": "code",
   "execution_count": 13,
   "id": "801a9981",
   "metadata": {},
   "outputs": [
    {
     "data": {
      "text/plain": [
       "340"
      ]
     },
     "execution_count": 13,
     "metadata": {},
     "output_type": "execute_result"
    }
   ],
   "source": [
    "##Task 4 \n",
    "words_list_unique = list(set(words_list))\n",
    "len(words_list_unique)"
   ]
  },
  {
   "cell_type": "code",
   "execution_count": 17,
   "id": "e2f60744",
   "metadata": {},
   "outputs": [
    {
     "data": {
      "text/plain": [
       "340"
      ]
     },
     "execution_count": 17,
     "metadata": {},
     "output_type": "execute_result"
    }
   ],
   "source": [
    "words_list_unique_dict = dict.fromkeys(words_list)\n",
    "len(list(words_list_unique_dict.keys()))"
   ]
  },
  {
   "cell_type": "code",
   "execution_count": 18,
   "id": "a9e4d98f",
   "metadata": {},
   "outputs": [
    {
     "name": "stdout",
     "output_type": "stream",
     "text": [
      "{'It': 3, 'is': 12, 'a': 20, 'truth': 2, 'universally': 1, 'acknowledged': 1, 'that': 15, 'single': 3, 'man': 4, 'in': 11, 'possession': 2, 'of': 29, 'good': 3, 'fortune': 3, 'must': 7, 'be': 11, 'want': 3, 'wife': 4, 'However': 1, 'little': 3, 'known': 1, 'the': 17, 'feelings': 1, 'or': 5, 'views': 1, 'such': 5, 'may': 5, 'on': 3, 'his': 11, 'first': 1, 'entering': 1, 'neighbourhood': 3, 'this': 1, 'so': 8, 'well': 1, 'fixed': 1, 'minds': 1, 'surrounding': 1, 'families': 1, 'he': 11, 'considered': 1, 'rightful': 1, 'property': 1, 'some': 2, 'one': 5, 'other': 2, 'their': 1, 'daughters': 4, 'My': 3, 'dear': 8, 'Mr': 10, 'Bennet': 6, 'said': 1, 'lady': 1, 'to': 22, 'him': 4, 'day': 1, 'have': 7, 'you': 24, 'heard': 2, 'Netherfield': 2, 'Park': 1, 'let': 1, 'at': 2, 'last': 2, 'replied': 3, 'had': 3, 'not': 9, 'But': 6, 'it': 11, 'returned': 1, 'she': 6, 'for': 12, 'Mrs': 2, 'Long': 2, 'has': 5, 'just': 1, 'been': 2, 'here': 2, 'and': 17, 'told': 1, 'me': 5, 'all': 3, 'about': 1, 'made': 1, 'no': 7, 'answer': 1, 'Do': 1, 'know': 5, 'who': 1, 'taken': 2, 'cried': 1, 'impatiently': 1, 'You': 7, 'tell': 1, 'I': 17, 'objection': 1, 'hearing': 1, 'This': 1, 'was': 8, 'invitation': 1, 'enough': 1, 'Why': 1, 'my': 10, 'says': 1, 'by': 4, 'young': 2, 'large': 2, 'from': 1, 'north': 1, 'England': 1, 'came': 1, 'down': 1, 'Monday': 1, 'chaise': 1, 'four': 3, 'see': 5, 'place': 1, 'much': 3, 'delighted': 1, 'with': 4, 'agreed': 1, 'Morris': 1, 'immediately': 1, 'take': 2, 'before': 1, 'Michaelmas': 1, 'servants': 1, 'are': 8, 'house': 1, 'end': 1, 'next': 1, 'week': 1, 'What': 2, 'name': 1, 'Bingley': 4, 'Is': 2, 'married': 2, 'Oh': 1, 'Single': 1, 'sure': 2, 'A': 1, 'five': 2, 'thousand': 2, 'year': 2, 'fine': 1, 'thing': 2, 'our': 1, 'girls': 4, 'How': 2, 'can': 4, 'affect': 1, 'them': 11, 'how': 3, 'tiresome': 1, 'am': 2, 'thinking': 2, 'marrying': 2, 'design': 1, 'settling': 1, 'Design': 1, 'Nonsense': 1, 'talk': 1, 'very': 2, 'likely': 1, 'fall': 1, 'love': 1, 'therefore': 1, 'visit': 5, 'as': 7, 'soon': 1, 'comes': 2, 'occasion': 1, 'go': 4, 'send': 2, 'themselves': 1, 'which': 1, 'perhaps': 1, 'will': 9, 'still': 1, 'better': 2, 'handsome': 2, 'any': 1, 'like': 2, 'best': 1, 'party': 1, 'flatter': 1, 'certainly': 1, 'share': 1, 'beauty': 3, 'but': 2, 'do': 4, 'pretend': 1, 'anything': 1, 'extraordinary': 1, 'now': 1, 'When': 2, 'woman': 3, 'grown': 1, 'up': 1, 'ought': 1, 'give': 1, 'over': 3, 'her': 5, 'own': 2, 'In': 1, 'cases': 1, 'often': 1, 'think': 2, 'indeed': 1, 'when': 2, 'into': 2, 'more': 2, 'than': 3, 'engage': 1, 'assure': 2, 'consider': 1, 'your': 3, 'Only': 1, 'what': 2, 'an': 1, 'establishment': 1, 'would': 1, 'Sir': 1, 'William': 1, 'Lady': 1, 'Lucas': 1, 'determined': 1, 'merely': 1, 'account': 1, 'general': 1, 'they': 2, 'newcomers': 1, 'Indeed': 1, 'impossible': 1, 'us': 2, 'if': 2, 'scrupulous': 1, 'surely': 1, 'dare': 1, 'say': 1, 'glad': 1, 'few': 1, 'lines': 1, 'hearty': 1, 'consent': 1, 'whichever': 1, 'chooses': 1, 'though': 1, 'throw': 1, 'word': 1, 'Lizzy': 3, 'desire': 1, 'bit': 1, 'others': 1, 'half': 2, 'Jane': 1, 'nor': 1, 'humoured': 1, 'Lydia': 1, 'always': 1, 'giving': 1, 'preference': 1, 'They': 2, 'none': 1, 'recommend': 1, 'silly': 1, 'ignorant': 1, 'something': 1, 'quickness': 1, 'sisters': 1, 'abuse': 1, 'children': 1, 'way': 1, 'delight': 1, 'vexing': 1, 'compassion': 1, 'poor': 1, 'nerves': 2, 'mistake': 1, 'high': 1, 'respect': 1, 'old': 1, 'friends': 1, 'mention': 1, 'consideration': 1, 'these': 1, 'twenty': 4, 'years': 2, 'least': 1, 'Ah': 1, 'suffer': 1, 'hope': 1, 'get': 2, 'live': 1, 'many': 1, 'men': 1, 'come': 2, 'use': 1, 'should': 1, 'since': 1, 'Depend': 1, 'upon': 1, 'there': 1, 'odd': 1, 'mixture': 1, 'quick': 1, 'parts': 1, 'sarcastic': 1, 'humour': 1, 'reserve': 1, 'caprice': 1, 'experience': 1, 'three': 1, 'insufficient': 1, 'make': 1, 'understand': 1, 'character': 1, 'Her': 1, 'mind': 1, 'less': 1, 'difficult': 1, 'develop': 1, 'She': 1, 'mean': 1, 'understanding': 1, 'information': 1, 'uncertain': 1, 'temper': 1, 'discontented': 1, 'fancied': 1, 'herself': 1, 'nervous': 1, 'The': 1, 'business': 1, 'life': 1, 'its': 1, 'solace': 1, 'visiting': 1, 'news': 1}\n"
     ]
    }
   ],
   "source": [
    "##Task 5 \n",
    "for word in words_list:\n",
    "    if words_list_unique_dict[word] is None:\n",
    "        words_list_unique_dict[word] = 1\n",
    "    else:\n",
    "        words_list_unique_dict[word] += 1\n",
    "print(words_list_unique_dict)"
   ]
  },
  {
   "cell_type": "code",
   "execution_count": 21,
   "id": "644a3530",
   "metadata": {},
   "outputs": [
    {
     "name": "stdout",
     "output_type": "stream",
     "text": [
      "[('of', 29), ('you', 24), ('to', 22), ('a', 20), ('the', 17), ('and', 17), ('I', 17), ('that', 15), ('is', 12), ('for', 12), ('in', 11), ('be', 11), ('his', 11), ('he', 11), ('it', 11), ('them', 11), ('Mr', 10), ('my', 10), ('not', 9), ('will', 9), ('so', 8), ('dear', 8), ('was', 8), ('are', 8), ('must', 7), ('have', 7), ('no', 7), ('You', 7), ('as', 7), ('Bennet', 6), ('But', 6), ('she', 6), ('or', 5), ('such', 5), ('may', 5), ('one', 5), ('has', 5), ('me', 5), ('know', 5), ('see', 5), ('visit', 5), ('her', 5), ('man', 4), ('wife', 4), ('daughters', 4), ('him', 4), ('by', 4), ('with', 4), ('Bingley', 4), ('girls', 4), ('can', 4), ('go', 4), ('do', 4), ('twenty', 4), ('It', 3), ('single', 3), ('good', 3), ('fortune', 3), ('want', 3), ('little', 3), ('on', 3), ('neighbourhood', 3), ('My', 3), ('replied', 3), ('had', 3), ('all', 3), ('four', 3), ('much', 3), ('how', 3), ('beauty', 3), ('woman', 3), ('over', 3), ('than', 3), ('your', 3), ('Lizzy', 3), ('truth', 2), ('possession', 2), ('some', 2), ('other', 2), ('heard', 2), ('Netherfield', 2), ('at', 2), ('last', 2), ('Mrs', 2), ('Long', 2), ('been', 2), ('here', 2), ('taken', 2), ('young', 2), ('large', 2), ('take', 2), ('What', 2), ('Is', 2), ('married', 2), ('sure', 2), ('five', 2), ('thousand', 2), ('year', 2), ('thing', 2), ('How', 2), ('am', 2), ('thinking', 2), ('marrying', 2), ('very', 2), ('comes', 2), ('send', 2), ('better', 2), ('handsome', 2), ('like', 2), ('but', 2), ('When', 2), ('own', 2), ('think', 2), ('when', 2), ('into', 2), ('more', 2), ('assure', 2), ('what', 2), ('they', 2), ('us', 2), ('if', 2), ('half', 2), ('They', 2), ('nerves', 2), ('years', 2), ('get', 2), ('come', 2), ('universally', 1), ('acknowledged', 1), ('However', 1), ('known', 1), ('feelings', 1), ('views', 1), ('first', 1), ('entering', 1), ('this', 1), ('well', 1), ('fixed', 1), ('minds', 1), ('surrounding', 1), ('families', 1), ('considered', 1), ('rightful', 1), ('property', 1), ('their', 1), ('said', 1), ('lady', 1), ('day', 1), ('Park', 1), ('let', 1), ('returned', 1), ('just', 1), ('told', 1), ('about', 1), ('made', 1), ('answer', 1), ('Do', 1), ('who', 1), ('cried', 1), ('impatiently', 1), ('tell', 1), ('objection', 1), ('hearing', 1), ('This', 1), ('invitation', 1), ('enough', 1), ('Why', 1), ('says', 1), ('from', 1), ('north', 1), ('England', 1), ('came', 1), ('down', 1), ('Monday', 1), ('chaise', 1), ('place', 1), ('delighted', 1), ('agreed', 1), ('Morris', 1), ('immediately', 1), ('before', 1), ('Michaelmas', 1), ('servants', 1), ('house', 1), ('end', 1), ('next', 1), ('week', 1), ('name', 1), ('Oh', 1), ('Single', 1), ('A', 1), ('fine', 1), ('our', 1), ('affect', 1), ('tiresome', 1), ('design', 1), ('settling', 1), ('Design', 1), ('Nonsense', 1), ('talk', 1), ('likely', 1), ('fall', 1), ('love', 1), ('therefore', 1), ('soon', 1), ('occasion', 1), ('themselves', 1), ('which', 1), ('perhaps', 1), ('still', 1), ('any', 1), ('best', 1), ('party', 1), ('flatter', 1), ('certainly', 1), ('share', 1), ('pretend', 1), ('anything', 1), ('extraordinary', 1), ('now', 1), ('grown', 1), ('up', 1), ('ought', 1), ('give', 1), ('In', 1), ('cases', 1), ('often', 1), ('indeed', 1), ('engage', 1), ('consider', 1), ('Only', 1), ('an', 1), ('establishment', 1), ('would', 1), ('Sir', 1), ('William', 1), ('Lady', 1), ('Lucas', 1), ('determined', 1), ('merely', 1), ('account', 1), ('general', 1), ('newcomers', 1), ('Indeed', 1), ('impossible', 1), ('scrupulous', 1), ('surely', 1), ('dare', 1), ('say', 1), ('glad', 1), ('few', 1), ('lines', 1), ('hearty', 1), ('consent', 1), ('whichever', 1), ('chooses', 1), ('though', 1), ('throw', 1), ('word', 1), ('desire', 1), ('bit', 1), ('others', 1), ('Jane', 1), ('nor', 1), ('humoured', 1), ('Lydia', 1), ('always', 1), ('giving', 1), ('preference', 1), ('none', 1), ('recommend', 1), ('silly', 1), ('ignorant', 1), ('something', 1), ('quickness', 1), ('sisters', 1), ('abuse', 1), ('children', 1), ('way', 1), ('delight', 1), ('vexing', 1), ('compassion', 1), ('poor', 1), ('mistake', 1), ('high', 1), ('respect', 1), ('old', 1), ('friends', 1), ('mention', 1), ('consideration', 1), ('these', 1), ('least', 1), ('Ah', 1), ('suffer', 1), ('hope', 1), ('live', 1), ('many', 1), ('men', 1), ('use', 1), ('should', 1), ('since', 1), ('Depend', 1), ('upon', 1), ('there', 1), ('odd', 1), ('mixture', 1), ('quick', 1), ('parts', 1), ('sarcastic', 1), ('humour', 1), ('reserve', 1), ('caprice', 1), ('experience', 1), ('three', 1), ('insufficient', 1), ('make', 1), ('understand', 1), ('character', 1), ('Her', 1), ('mind', 1), ('less', 1), ('difficult', 1), ('develop', 1), ('She', 1), ('mean', 1), ('understanding', 1), ('information', 1), ('uncertain', 1), ('temper', 1), ('discontented', 1), ('fancied', 1), ('herself', 1), ('nervous', 1), ('The', 1), ('business', 1), ('life', 1), ('its', 1), ('solace', 1), ('visiting', 1), ('news', 1)]\n"
     ]
    }
   ],
   "source": [
    "##Top 25 words\n",
    "top_words = sorted(words_list_unique_dict.items(), key=lambda key_val_tuple: key_val_tuple[1], reverse = True)\n",
    "print(top_words)"
   ]
  }
 ],
 "metadata": {
  "kernelspec": {
   "display_name": "Python 3",
   "language": "python",
   "name": "python3"
  },
  "language_info": {
   "codemirror_mode": {
    "name": "ipython",
    "version": 3
   },
   "file_extension": ".py",
   "mimetype": "text/x-python",
   "name": "python",
   "nbconvert_exporter": "python",
   "pygments_lexer": "ipython3",
   "version": "3.8.8"
  }
 },
 "nbformat": 4,
 "nbformat_minor": 5
}
