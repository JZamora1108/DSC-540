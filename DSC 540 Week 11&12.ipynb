{
 "cells": [
  {
   "cell_type": "code",
   "execution_count": 15,
   "id": "6594ff82",
   "metadata": {},
   "outputs": [
    {
     "ename": "ModuleNotFoundError",
     "evalue": "No module named 'google.colab'",
     "output_type": "error",
     "traceback": [
      "\u001b[1;31m---------------------------------------------------------------------------\u001b[0m",
      "\u001b[1;31mModuleNotFoundError\u001b[0m                       Traceback (most recent call last)",
      "\u001b[1;32m<ipython-input-15-5470f6cdd3e5>\u001b[0m in \u001b[0;36m<module>\u001b[1;34m\u001b[0m\n\u001b[1;32m----> 1\u001b[1;33m \u001b[1;32mfrom\u001b[0m \u001b[0mgoogle\u001b[0m\u001b[1;33m.\u001b[0m\u001b[0mcolab\u001b[0m \u001b[1;32mimport\u001b[0m \u001b[0mdrive\u001b[0m\u001b[1;33m\u001b[0m\u001b[1;33m\u001b[0m\u001b[0m\n\u001b[0m\u001b[0;32m      2\u001b[0m \u001b[1;32mimport\u001b[0m \u001b[0msys\u001b[0m\u001b[1;33m\u001b[0m\u001b[1;33m\u001b[0m\u001b[0m\n\u001b[0;32m      3\u001b[0m \u001b[1;32mimport\u001b[0m \u001b[0mos\u001b[0m\u001b[1;33m\u001b[0m\u001b[1;33m\u001b[0m\u001b[0m\n\u001b[0;32m      4\u001b[0m \u001b[1;32mimport\u001b[0m \u001b[0msqlite3\u001b[0m\u001b[1;33m\u001b[0m\u001b[1;33m\u001b[0m\u001b[0m\n\u001b[0;32m      5\u001b[0m \u001b[1;32mimport\u001b[0m \u001b[0mpandas\u001b[0m \u001b[1;32mas\u001b[0m \u001b[0mpd\u001b[0m\u001b[1;33m\u001b[0m\u001b[1;33m\u001b[0m\u001b[0m\n",
      "\u001b[1;31mModuleNotFoundError\u001b[0m: No module named 'google.colab'"
     ]
    }
   ],
   "source": [
    "##installed google colab \n",
    "from google.colab import drive\n",
    "import sys\n",
    "import os\n",
    "import sqlite3\n",
    "import pandas as pd\n",
    "\n",
    "drive.mount('C:\\\\Users\\\\14029\\\\anaconda3\\\\lib\\\\os.py')\n",
    "sys.path.append('C:\\\\Users\\\\14029\\\\anaconda3\\\\lib\\\\os.py')\n",
    "os.chdir('C:\\\\Users\\\\14029\\\\anaconda3\\\\lib\\\\os.py')"
   ]
  },
  {
   "cell_type": "code",
   "execution_count": 13,
   "id": "325154c7",
   "metadata": {},
   "outputs": [
    {
     "name": "stdout",
     "output_type": "stream",
     "text": [
      "<module 'os' from 'C:\\\\Users\\\\14029\\\\anaconda3\\\\lib\\\\os.py'>\n"
     ]
    }
   ],
   "source": [
    "##view os\n",
    "print(os)"
   ]
  },
  {
   "cell_type": "code",
   "execution_count": 14,
   "id": "42f4c927",
   "metadata": {},
   "outputs": [],
   "source": [
    "##load and view db\n",
    "db = sqlite3.connect(\"petsdb\")\n",
    "\n",
    "# check if connection is successful by creating cursor\n",
    "def chk_conn(conn):\n",
    "     try:\n",
    "        conn.cursor()\n",
    "        return True\n",
    "     except Exception as ex:\n",
    "        return False"
   ]
  },
  {
   "cell_type": "code",
   "execution_count": 16,
   "id": "ddd8f08a",
   "metadata": {},
   "outputs": [
    {
     "name": "stdout",
     "output_type": "stream",
     "text": [
      "True\n"
     ]
    }
   ],
   "source": [
    "print(chk_conn(conn))"
   ]
  },
  {
   "cell_type": "code",
   "execution_count": 17,
   "id": "b1ab500f",
   "metadata": {},
   "outputs": [
    {
     "name": "stdout",
     "output_type": "stream",
     "text": [
      " Age 5 -> 2 People \n",
      " Age 6 -> 1 People \n",
      " Age 7 -> 1 People \n",
      " Age 8 -> 3 People \n",
      " Age 9 -> 1 People \n",
      " Age 11 -> 2 People \n",
      " Age 12 -> 3 People \n",
      " Age 13 -> 1 People \n",
      " Age 14 -> 4 People \n",
      " Age 16 -> 2 People \n",
      " Age 17 -> 2 People \n",
      " Age 18 -> 3 People \n",
      " Age 19 -> 1 People \n",
      " Age 22 -> 3 People \n",
      " Age 23 -> 2 People \n",
      " Age 24 -> 3 People \n",
      " Age 25 -> 2 People \n",
      " Age 27 -> 1 People \n",
      " Age 30 -> 1 People \n",
      " Age 31 -> 3 People \n",
      " Age 32 -> 1 People \n",
      " Age 33 -> 1 People \n",
      " Age 34 -> 2 People \n",
      " Age 35 -> 3 People \n",
      " Age 36 -> 3 People \n",
      " Age 37 -> 1 People \n",
      " Age 39 -> 2 People \n",
      " Age 40 -> 1 People \n",
      " Age 42 -> 1 People \n",
      " Age 44 -> 2 People \n",
      " Age 48 -> 2 People \n",
      " Age 49 -> 1 People \n",
      " Age 50 -> 1 People \n",
      " Age 51 -> 2 People \n",
      " Age 52 -> 2 People \n",
      " Age 53 -> 2 People \n",
      " Age 54 -> 2 People \n",
      " Age 58 -> 1 People \n",
      " Age 59 -> 1 People \n",
      " Age 60 -> 1 People \n",
      " Age 61 -> 1 People \n",
      " Age 62 -> 2 People \n",
      " Age 63 -> 1 People \n",
      " Age 65 -> 2 People \n",
      " Age 66 -> 2 People \n",
      " Age 67 -> 1 People \n",
      " Age 68 -> 3 People \n",
      " Age 69 -> 1 People \n",
      " Age 70 -> 1 People \n",
      " Age 71 -> 4 People \n",
      " Age 72 -> 1 People \n",
      " Age 73 -> 5 People \n",
      " Age 74 -> 3 People \n"
     ]
    }
   ],
   "source": [
    "##find age groups\n",
    "c = conn.cursor()\n",
    "for ppl, age in c.execute(\"SELECT count(*), age FROM persons GROUP BY age\"):\n",
    "    print(f\" Age {age} -> {ppl} People \")"
   ]
  },
  {
   "cell_type": "code",
   "execution_count": 19,
   "id": "8aaa988e",
   "metadata": {},
   "outputs": [
    {
     "data": {
      "text/plain": [
       "[{5: 73}]"
      ]
     },
     "execution_count": 19,
     "metadata": {},
     "output_type": "execute_result"
    }
   ],
   "source": [
    "## select highest count\n",
    "ppl_age = [ {x:y} for x,y in c.execute(\"SELECT count(*), age FROM persons GROUP BY age ORDER BY count(*)\")]\n",
    "ppl_age[-1:]"
   ]
  },
  {
   "cell_type": "code",
   "execution_count": 20,
   "id": "cc96786a",
   "metadata": {},
   "outputs": [
    {
     "name": "stdout",
     "output_type": "stream",
     "text": [
      "(1, 'Erica', None, 22, 'south port', 2345678)\n",
      "(2, 'Jordi', None, 73, 'east port', 123456)\n",
      "(3, 'Chasity', None, 70, 'new port', 76856785)\n",
      "(4, 'Gregg', None, 31, 'new port', 76856785)\n",
      "(6, 'Cary', None, 73, 'new port', 76856785)\n",
      "(8, 'Francisca', None, 14, 'west port', 123456)\n",
      "(10, 'Raleigh', None, 68, 'new port', 2345678)\n",
      "(11, 'Maria', None, 42, 'west port', 123456)\n",
      "(12, 'Mariane', None, 62, 'south port', 9756543)\n",
      "(13, 'Mona', None, 44, 'south port', 76856785)\n",
      "(14, 'Kayla', None, 36, 'south port', 2345678)\n",
      "(15, 'Karlie', None, 35, 'west port', 123456)\n",
      "(16, 'Morris', None, 71, 'west port', 76856785)\n",
      "(17, 'Sandy', None, 23, 'east port', 2345678)\n",
      "(18, 'Hector', None, 63, 'east port', 9756543)\n",
      "(19, 'Hiram', None, 52, 'west port', 2345678)\n",
      "(20, 'Tressa', None, 59, 'new port', 123456)\n",
      "(21, 'Berry', None, 22, 'south port', 2345678)\n",
      "(22, 'Pearline', None, 73, 'new port', 9756543)\n",
      "(23, 'Maynard', None, 25, 'east port', 123456)\n",
      "(24, 'Dorian', None, 40, 'east port', 123456)\n",
      "(25, 'Mylene', None, 5, 'east port', 76856785)\n",
      "(26, 'Lafayette', None, 34, 'new port', 2345678)\n",
      "(29, 'Tara', None, 39, 'west port', 123456)\n",
      "(30, 'Destiny', None, 18, 'south port', 2345678)\n",
      "(31, 'Lesly', None, 31, 'west port', 123456)\n",
      "(32, 'Perry', None, 19, 'south port', 76856785)\n",
      "(35, 'Maritza', None, 73, 'east port', 9756543)\n",
      "(37, 'Grant', None, 61, 'east port', 76856785)\n",
      "(39, 'Laury', None, 17, 'east port', 9756543)\n",
      "(40, 'Name', None, 52, 'east port', 9756543)\n",
      "(41, 'Estefania', None, 32, 'new port', 76856785)\n",
      "(42, 'Destiney', None, 65, 'west port', 2345678)\n",
      "(43, 'Jaquelin', None, 73, 'west port', 9756543)\n",
      "(45, 'Alfonzo', None, 16, 'east port', 2345678)\n",
      "(46, 'Lisandro', None, 11, 'new port', 76856785)\n",
      "(49, 'Priscilla', None, 65, 'east port', 76856785)\n",
      "(50, 'Elenora', None, 11, 'new port', 76856785)\n",
      "(52, 'Rudolph', None, 14, 'east port', 76856785)\n",
      "(56, 'Ona', None, 35, 'east port', 9756543)\n",
      "(57, 'Rebeca', None, 50, 'new port', 76856785)\n",
      "(59, 'Sigurd', None, 12, 'west port', 76856785)\n",
      "(63, 'Alice', None, 8, 'west port', 76856785)\n",
      "(64, 'Dane', None, 24, 'west port', 9756543)\n",
      "(65, 'Judge', None, 17, 'south port', 76856785)\n",
      "(66, 'Allene', None, 9, 'new port', 9756543)\n",
      "(67, 'Jalen', None, 33, 'new port', 2345678)\n",
      "(70, 'Myron', None, 36, 'new port', 9756543)\n",
      "(73, 'Travon', None, 16, 'south port', 2345678)\n",
      "(74, 'Shayna', None, 60, 'new port', 2345678)\n",
      "(75, 'Myah', None, 14, 'east port', 2345678)\n",
      "(82, 'Letha', None, 44, 'new port', 9756543)\n",
      "(84, 'Felton', None, 74, 'east port', 2345678)\n",
      "(85, 'London', None, 66, 'east port', 9756543)\n",
      "(86, 'Koby', None, 31, 'west port', 9756543)\n",
      "(87, 'Golden', None, 35, 'east port', 76856785)\n",
      "(89, 'Anissa', None, 8, 'south port', 76856785)\n",
      "(91, 'Sid', None, 22, 'west port', 123456)\n",
      "(96, 'Ernesto', None, 69, 'east port', 9756543)\n",
      "(97, 'Josianne', None, 14, 'west port', 76856785)\n"
     ]
    }
   ],
   "source": [
    "##pull last name\n",
    "result = c.execute(\"SELECT * FROM persons where last_name is null\")\n",
    "for record in result:\n",
    "  print(f\"{record}\")"
   ]
  },
  {
   "cell_type": "code",
   "execution_count": 21,
   "id": "2f38b19b",
   "metadata": {},
   "outputs": [
    {
     "name": "stdout",
     "output_type": "stream",
     "text": [
      "(2, 'mani', 1.0, 0)\n",
      "(5, 'fenga', None, 0)\n",
      "(6, 'milu', 1.0, 0)\n",
      "(7, 'olga', 1.0, 0)\n",
      "(9, 'gimir', None, 0)\n",
      "(10, 'snoopy', 1.0, 0)\n",
      "(13, 'gimir', None, 0)\n",
      "(14, 'unsa', 1.0, 0)\n",
      "(16, 'dara', None, 0)\n",
      "(18, 'deru', None, 0)\n",
      "(20, 'olga', None, 0)\n",
      "(21, 'tamari', 1.0, 0)\n",
      "(24, 'palu', None, 0)\n",
      "(25, 'raba', None, 0)\n",
      "(26, 'mani', None, 1)\n",
      "(27, 'olga', None, 0)\n",
      "(28, 'mani', 1.0, 0)\n",
      "(31, 'chegal', 1.0, 1)\n",
      "(33, 'chegal', 1.0, 0)\n",
      "(35, 'milu', None, 0)\n",
      "(36, 'dara', None, 0)\n",
      "(37, 'dara', 1.0, 0)\n",
      "(38, 'raba', None, 0)\n",
      "(39, 'sapi', None, 0)\n",
      "(40, 'sapi', None, 0)\n",
      "(42, 'dara', None, 0)\n",
      "(43, 'tamari', None, 0)\n",
      "(45, 'sami', None, 1)\n",
      "(48, 'snoopy', None, 0)\n",
      "(49, 'sami', 1.0, 0)\n",
      "(50, 'bulga', 1.0, 0)\n",
      "(51, 'bulga', None, 0)\n",
      "(53, 'sami', 1.0, 1)\n",
      "(56, 'deru', None, 0)\n",
      "(57, 'mani', 1.0, 0)\n",
      "(58, 'sapi', 1.0, 0)\n",
      "(60, 'raba', None, 0)\n",
      "(64, 'milu', 1.0, 0)\n",
      "(67, 'raba', None, 0)\n",
      "(86, 'milu', 1.0, 0)\n",
      "(98, 'bulga', 1.0, 1)\n",
      "(99, 'milu', None, 1)\n",
      "(100, 'chegal', None, 0)\n"
     ]
    }
   ],
   "source": [
    "##pull pet info\n",
    "ppl_gt_1_pet = c.execute(\"SELECT * FROM pets GROUP BY owner_id HAVING count(owner_id) >1\")\n",
    "count=0\n",
    "for record in ppl_gt_1_pet:\n",
    "  print(record)\n",
    "  count=count+1;"
   ]
  },
  {
   "cell_type": "code",
   "execution_count": 22,
   "id": "791a9bf4",
   "metadata": {},
   "outputs": [
    {
     "name": "stdout",
     "output_type": "stream",
     "text": [
      "Total number of peoples with more than 1 pet are 43\n"
     ]
    }
   ],
   "source": [
    "print(f\"Total number of peoples with more than 1 pet are {count}\")"
   ]
  },
  {
   "cell_type": "code",
   "execution_count": 24,
   "id": "94063705",
   "metadata": {},
   "outputs": [
    {
     "name": "stdout",
     "output_type": "stream",
     "text": [
      "Pets who received treatment (36,)\n"
     ]
    }
   ],
   "source": [
    "##view pet treatment info\n",
    "treatment = c.execute(\"SELECT count(*) FROM pets WHERE treatment_done=1\")\n",
    "for row in treatment:\n",
    "    print(f\"Pets who received treatment {row}\")"
   ]
  },
  {
   "cell_type": "code",
   "execution_count": 27,
   "id": "6f75f0bf",
   "metadata": {},
   "outputs": [
    {
     "name": "stdout",
     "output_type": "stream",
     "text": [
      "Unknown type of pets who received treatment (16,)\n"
     ]
    }
   ],
   "source": [
    "## view pet type and treatment type\n",
    "pet_type_treated = c.execute(\"SELECT count(*) FROM pets WHERE treatment_done=1 AND pet_type IS NOT null\")\n",
    "for row in pet_type_treated:\n",
    "    print(f\"Unknown type of pets who received treatment {row}\")"
   ]
  },
  {
   "cell_type": "code",
   "execution_count": 28,
   "id": "940a0365",
   "metadata": {},
   "outputs": [
    {
     "name": "stdout",
     "output_type": "stream",
     "text": [
      "Number of Pets from city East Port (49,)\n"
     ]
    }
   ],
   "source": [
    "##pull pet info from east port\n",
    "pets_from_east_port = c.execute(\"SELECT count(*) FROM (select p.pet_name,per.city from pets p, persons per where p.owner_id=per.id and per.city='east port') \")\n",
    "for row in pets_from_east_port:\n",
    "    print(f\"Number of Pets from city East Port {row}\")"
   ]
  },
  {
   "cell_type": "code",
   "execution_count": 31,
   "id": "ff586a02",
   "metadata": {},
   "outputs": [
    {
     "name": "stdout",
     "output_type": "stream",
     "text": [
      "Number of Pets from city East Port for whom Treatment is done (11,)\n"
     ]
    }
   ],
   "source": [
    "##pull pet info and city info\n",
    "east_port_pets_treated = c.execute(\"SELECT count(*) FROM (select p.pet_name,per.city from pets p, persons per where p.owner_id=per.id and per.city='east port' and p.treatment_done=1) \")\n",
    "for row in east_port_pets_treated:\n",
    "    print(f\"Number of Pets from city East Port for whom Treatment is done {row}\")"
   ]
  }
 ],
 "metadata": {
  "kernelspec": {
   "display_name": "Python 3",
   "language": "python",
   "name": "python3"
  },
  "language_info": {
   "codemirror_mode": {
    "name": "ipython",
    "version": 3
   },
   "file_extension": ".py",
   "mimetype": "text/x-python",
   "name": "python",
   "nbconvert_exporter": "python",
   "pygments_lexer": "ipython3",
   "version": "3.8.8"
  }
 },
 "nbformat": 4,
 "nbformat_minor": 5
}
